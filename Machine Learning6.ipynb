{
 "cells": [
  {
   "cell_type": "code",
   "execution_count": 1,
   "id": "d0a2c325-8283-4cae-b394-827b85ae08f9",
   "metadata": {},
   "outputs": [
    {
     "name": "stdout",
     "output_type": "stream",
     "text": [
      "pickling is done\n",
      "first value 100\n",
      "second value 200\n",
      "third value 300\n",
      "unplicking is done\n"
     ]
    }
   ],
   "source": [
    "import pickle\n",
    "class Rajesh:\n",
    "    def __init__(self,a,b,c):\n",
    "         self.a=a\n",
    "         self.b=b\n",
    "         self.c=c\n",
    "    def name(self):\n",
    "         print(\"first value\",self.a)\n",
    "         print(\"second value\",self.b)\n",
    "         print(\"third value\",self.c)\n",
    "with open(\"rajesh.plk\",\"wb\") as f1:\n",
    " obj=Rajesh(100,200,300)\n",
    " pickle.dump(obj,f1)\n",
    " print(\"pickling is done\")\n",
    "with open(\"rajesh.plk\",\"rb\") as f2:\n",
    " obj=pickle.load(f2)\n",
    " obj.name()\n",
    " print(\"unplicking is done\")"
   ]
  },
  {
   "cell_type": "code",
   "execution_count": 2,
   "id": "dab3e2e1-e105-4b0c-9a51-44e5b30c2133",
   "metadata": {},
   "outputs": [
    {
     "name": "stdout",
     "output_type": "stream",
     "text": [
      "pickling is done\n"
     ]
    }
   ],
   "source": [
    "import pickle\n",
    "class Rajesh:\n",
    "     def __init__(self,a,b,c):\n",
    "         self.a=a\n",
    "         self.b=b\n",
    "         self.c=c\n",
    "     def name(self):\n",
    "         print(\"first value\",self.a)\n",
    "         print(\"second value\",self.b)\n",
    "         print(\"third value\",self.c)\n",
    "with open(\"rajesh2.pkl\",\"wb\") as f1:\n",
    " obj=Rajesh(100,\"maddireddy\",\"rajeshreddy\")\n",
    " pickle.dump(obj,f1)\n",
    " print(\"pickling is done\")"
   ]
  },
  {
   "cell_type": "code",
   "execution_count": 3,
   "id": "ac0fe1e7-2e91-4713-824b-af65119e3e55",
   "metadata": {},
   "outputs": [
    {
     "name": "stdout",
     "output_type": "stream",
     "text": [
      "first value 100\n",
      "second value maddireddy\n",
      "third value rajeshreddy\n",
      "unplickling is done\n"
     ]
    }
   ],
   "source": [
    "with open(\"rajesh2.pkl\",\"rb\") as f2:\n",
    " obj=pickle.load(f2)\n",
    " obj.name()\n",
    " print(\"unplickling is done\")"
   ]
  },
  {
   "cell_type": "code",
   "execution_count": 4,
   "id": "6e88ba81-e02f-45f4-aa69-85936fef66cf",
   "metadata": {},
   "outputs": [
    {
     "name": "stdout",
     "output_type": "stream",
     "text": [
      "pickling is done\n"
     ]
    }
   ],
   "source": [
    "import pandas as pd\n",
    "from sklearn.linear_model import LinearRegression\n",
    "import pickle\n",
    "df=pd.read_csv(\"homeprices.csv\")\n",
    "df1=df.drop(\"price\",axis=\"columns\").values\n",
    "df1\n",
    "df2=df.price.values\n",
    "df2\n",
    "obj=LinearRegression()\n",
    "obj.fit(df1,df2)\n",
    "with open(\"rajesh3.pkl\",\"wb\")as f1:\n",
    " pickle.dump(obj,f1)\n",
    " print(\"pickling is done\")\n",
    "\n",
    "\n"
   ]
  },
  {
   "cell_type": "code",
   "execution_count": 5,
   "id": "aaf57d37-5683-4675-8c9e-5d1fe22aa965",
   "metadata": {},
   "outputs": [
    {
     "name": "stdout",
     "output_type": "stream",
     "text": [
      "[859554.79452055]\n"
     ]
    }
   ],
   "source": [
    "with open(\"rajesh3.pkl\",\"rb\") as f2:\n",
    " obj=pickle.load(f2)\n",
    " print(obj.predict([[5000]]))\n",
    " "
   ]
  },
  {
   "cell_type": "code",
   "execution_count": 6,
   "id": "c54911c4-060d-4bed-96ff-1b8e82db43d0",
   "metadata": {},
   "outputs": [
    {
     "data": {
      "text/html": [
       "<div>\n",
       "<style scoped>\n",
       "    .dataframe tbody tr th:only-of-type {\n",
       "        vertical-align: middle;\n",
       "    }\n",
       "\n",
       "    .dataframe tbody tr th {\n",
       "        vertical-align: top;\n",
       "    }\n",
       "\n",
       "    .dataframe thead th {\n",
       "        text-align: right;\n",
       "    }\n",
       "</style>\n",
       "<table border=\"1\" class=\"dataframe\">\n",
       "  <thead>\n",
       "    <tr style=\"text-align: right;\">\n",
       "      <th></th>\n",
       "      <th>area</th>\n",
       "      <th>bedrooms</th>\n",
       "      <th>age</th>\n",
       "      <th>price</th>\n",
       "    </tr>\n",
       "  </thead>\n",
       "  <tbody>\n",
       "    <tr>\n",
       "      <th>0</th>\n",
       "      <td>2600</td>\n",
       "      <td>3.0</td>\n",
       "      <td>20</td>\n",
       "      <td>550000</td>\n",
       "    </tr>\n",
       "    <tr>\n",
       "      <th>1</th>\n",
       "      <td>3000</td>\n",
       "      <td>4.0</td>\n",
       "      <td>15</td>\n",
       "      <td>565000</td>\n",
       "    </tr>\n",
       "    <tr>\n",
       "      <th>2</th>\n",
       "      <td>3200</td>\n",
       "      <td>NaN</td>\n",
       "      <td>18</td>\n",
       "      <td>610000</td>\n",
       "    </tr>\n",
       "    <tr>\n",
       "      <th>3</th>\n",
       "      <td>3600</td>\n",
       "      <td>3.0</td>\n",
       "      <td>30</td>\n",
       "      <td>595000</td>\n",
       "    </tr>\n",
       "    <tr>\n",
       "      <th>4</th>\n",
       "      <td>4000</td>\n",
       "      <td>5.0</td>\n",
       "      <td>8</td>\n",
       "      <td>760000</td>\n",
       "    </tr>\n",
       "    <tr>\n",
       "      <th>5</th>\n",
       "      <td>4100</td>\n",
       "      <td>6.0</td>\n",
       "      <td>8</td>\n",
       "      <td>810000</td>\n",
       "    </tr>\n",
       "  </tbody>\n",
       "</table>\n",
       "</div>"
      ],
      "text/plain": [
       "   area  bedrooms  age   price\n",
       "0  2600       3.0   20  550000\n",
       "1  3000       4.0   15  565000\n",
       "2  3200       NaN   18  610000\n",
       "3  3600       3.0   30  595000\n",
       "4  4000       5.0    8  760000\n",
       "5  4100       6.0    8  810000"
      ]
     },
     "execution_count": 6,
     "metadata": {},
     "output_type": "execute_result"
    }
   ],
   "source": [
    "import pickle\n",
    "import pandas as pd\n",
    "from sklearn.linear_model import LinearRegression\n",
    "df=pd.read_csv(\"homeprices1.csv\")\n",
    "df"
   ]
  },
  {
   "cell_type": "code",
   "execution_count": 7,
   "id": "290b2c78-1574-4ad8-83f8-4faba0386967",
   "metadata": {},
   "outputs": [
    {
     "data": {
      "text/html": [
       "<div>\n",
       "<style scoped>\n",
       "    .dataframe tbody tr th:only-of-type {\n",
       "        vertical-align: middle;\n",
       "    }\n",
       "\n",
       "    .dataframe tbody tr th {\n",
       "        vertical-align: top;\n",
       "    }\n",
       "\n",
       "    .dataframe thead th {\n",
       "        text-align: right;\n",
       "    }\n",
       "</style>\n",
       "<table border=\"1\" class=\"dataframe\">\n",
       "  <thead>\n",
       "    <tr style=\"text-align: right;\">\n",
       "      <th></th>\n",
       "      <th>area</th>\n",
       "      <th>bedrooms</th>\n",
       "      <th>age</th>\n",
       "      <th>price</th>\n",
       "    </tr>\n",
       "  </thead>\n",
       "  <tbody>\n",
       "    <tr>\n",
       "      <th>0</th>\n",
       "      <td>2600</td>\n",
       "      <td>3.0</td>\n",
       "      <td>20</td>\n",
       "      <td>550000</td>\n",
       "    </tr>\n",
       "    <tr>\n",
       "      <th>1</th>\n",
       "      <td>3000</td>\n",
       "      <td>4.0</td>\n",
       "      <td>15</td>\n",
       "      <td>565000</td>\n",
       "    </tr>\n",
       "    <tr>\n",
       "      <th>2</th>\n",
       "      <td>3200</td>\n",
       "      <td>4.2</td>\n",
       "      <td>18</td>\n",
       "      <td>610000</td>\n",
       "    </tr>\n",
       "    <tr>\n",
       "      <th>3</th>\n",
       "      <td>3600</td>\n",
       "      <td>3.0</td>\n",
       "      <td>30</td>\n",
       "      <td>595000</td>\n",
       "    </tr>\n",
       "    <tr>\n",
       "      <th>4</th>\n",
       "      <td>4000</td>\n",
       "      <td>5.0</td>\n",
       "      <td>8</td>\n",
       "      <td>760000</td>\n",
       "    </tr>\n",
       "    <tr>\n",
       "      <th>5</th>\n",
       "      <td>4100</td>\n",
       "      <td>6.0</td>\n",
       "      <td>8</td>\n",
       "      <td>810000</td>\n",
       "    </tr>\n",
       "  </tbody>\n",
       "</table>\n",
       "</div>"
      ],
      "text/plain": [
       "   area  bedrooms  age   price\n",
       "0  2600       3.0   20  550000\n",
       "1  3000       4.0   15  565000\n",
       "2  3200       4.2   18  610000\n",
       "3  3600       3.0   30  595000\n",
       "4  4000       5.0    8  760000\n",
       "5  4100       6.0    8  810000"
      ]
     },
     "execution_count": 7,
     "metadata": {},
     "output_type": "execute_result"
    }
   ],
   "source": [
    "from sklearn.impute import SimpleImputer\n",
    "import numpy as np\n",
    "obj=SimpleImputer(strategy=\"mean\")\n",
    "x=df[[\"bedrooms\"]].values\n",
    "np.set_printoptions(suppress=True)\n",
    "df[[\"bedrooms\"]]=obj.fit_transform(x)\n",
    "df"
   ]
  },
  {
   "cell_type": "code",
   "execution_count": 8,
   "id": "c37f00e4-347f-43a2-98f1-780eed2fc346",
   "metadata": {},
   "outputs": [
    {
     "name": "stdout",
     "output_type": "stream",
     "text": [
      "[601483.40843428]\n"
     ]
    }
   ],
   "source": [
    "x=df.drop(\"price\",axis=\"columns\").values\n",
    "x\n",
    "y=df.price.values\n",
    "y\n",
    "obj=LinearRegression()\n",
    "obj.fit(x,y)\n",
    "print(obj.predict([[3000,4,15]]))"
   ]
  },
  {
   "cell_type": "code",
   "execution_count": 9,
   "id": "bd7116a0-06b4-4302-808d-ed5f22295a08",
   "metadata": {},
   "outputs": [
    {
     "name": "stdout",
     "output_type": "stream",
     "text": [
      "pickling is done\n"
     ]
    }
   ],
   "source": [
    "obj=LinearRegression()\n",
    "obj.fit(x,y)\n",
    "with open(\"rajesh4.pkl\",\"wb\") as f1:\n",
    " pickle.dump(obj,f1)\n",
    " print(\"pickling is done\")"
   ]
  },
  {
   "cell_type": "code",
   "execution_count": 15,
   "id": "688305e5-d1ea-45ac-857b-afce787c9910",
   "metadata": {},
   "outputs": [
    {
     "name": "stdout",
     "output_type": "stream",
     "text": [
      "pickling is done\n"
     ]
    }
   ],
   "source": [
    "import pickle\n",
    "class Rajesh:\n",
    "    def __init__(self,a,b,c):\n",
    "        self.a=a\n",
    "        self.b=b\n",
    "        self.c=c\n",
    "    def display(self):\n",
    "        print(\"enter first number\",self.a)\n",
    "        print(\"enter second number\",self.b)\n",
    "        print(\"enter third number\",self.c)\n",
    "with open(\"rajesh4.pkl\",\"wb\")as f1:\n",
    " x=Rajesh(100,200,300)\n",
    " pickle.dump(x,f1)\n",
    " print(\"pickling is done\")"
   ]
  },
  {
   "cell_type": "code",
   "execution_count": 16,
   "id": "edad2f69-8989-4350-b889-8fb13bdf4837",
   "metadata": {},
   "outputs": [
    {
     "name": "stdout",
     "output_type": "stream",
     "text": [
      "enter first number 100\n",
      "enter second number 200\n",
      "enter third number 300\n",
      "unpickling is done\n"
     ]
    }
   ],
   "source": [
    "with open(\"rajesh4.pkl\",\"rb\")as f2:\n",
    " obj=pickle.load(f2)\n",
    " obj.display()\n",
    " print(\"unpickling is done\")"
   ]
  },
  {
   "cell_type": "code",
   "execution_count": 17,
   "id": "2a76a50c-811e-4c22-abba-988596c01603",
   "metadata": {},
   "outputs": [
    {
     "name": "stdout",
     "output_type": "stream",
     "text": [
      "pickling is done\n"
     ]
    }
   ],
   "source": [
    "class Rajesh:\n",
    "     def __init__(self,a,b,c):\n",
    "         self.a=a\n",
    "         self.b=b\n",
    "         self.c=c\n",
    "     def display(self):\n",
    "         print(self.a)\n",
    "         print(self.b)\n",
    "         print(self.c)\n",
    "with open(\"rajesh5.pkl\",\"wb\") as f1:\n",
    " x=Rajesh(100,\"maddireddy\",\"rajeshreddy\")\n",
    " pickle.dump(x,f1)\n",
    " print(\"pickling is done\")"
   ]
  },
  {
   "cell_type": "code",
   "execution_count": 18,
   "id": "87adedf7-012c-4ddc-a665-66f26b34e3e7",
   "metadata": {},
   "outputs": [
    {
     "name": "stdout",
     "output_type": "stream",
     "text": [
      "100\n",
      "maddireddy\n",
      "rajeshreddy\n",
      "unplickling is done\n"
     ]
    }
   ],
   "source": [
    "with open(\"rajesh5.pkl\",\"rb\") as f2:\n",
    " obj=pickle.load(f2)\n",
    " obj.display()\n",
    " print(\"unplickling is done\")"
   ]
  },
  {
   "cell_type": "code",
   "execution_count": 24,
   "id": "5cc060ec-dd0e-4a22-a201-b90012bcecb7",
   "metadata": {},
   "outputs": [
    {
     "data": {
      "text/html": [
       "<div>\n",
       "<style scoped>\n",
       "    .dataframe tbody tr th:only-of-type {\n",
       "        vertical-align: middle;\n",
       "    }\n",
       "\n",
       "    .dataframe tbody tr th {\n",
       "        vertical-align: top;\n",
       "    }\n",
       "\n",
       "    .dataframe thead th {\n",
       "        text-align: right;\n",
       "    }\n",
       "</style>\n",
       "<table border=\"1\" class=\"dataframe\">\n",
       "  <thead>\n",
       "    <tr style=\"text-align: right;\">\n",
       "      <th></th>\n",
       "      <th>area</th>\n",
       "      <th>price</th>\n",
       "    </tr>\n",
       "  </thead>\n",
       "  <tbody>\n",
       "    <tr>\n",
       "      <th>0</th>\n",
       "      <td>2600</td>\n",
       "      <td>550000</td>\n",
       "    </tr>\n",
       "    <tr>\n",
       "      <th>1</th>\n",
       "      <td>3000</td>\n",
       "      <td>565000</td>\n",
       "    </tr>\n",
       "    <tr>\n",
       "      <th>2</th>\n",
       "      <td>3200</td>\n",
       "      <td>610000</td>\n",
       "    </tr>\n",
       "    <tr>\n",
       "      <th>3</th>\n",
       "      <td>3600</td>\n",
       "      <td>680000</td>\n",
       "    </tr>\n",
       "    <tr>\n",
       "      <th>4</th>\n",
       "      <td>4000</td>\n",
       "      <td>725000</td>\n",
       "    </tr>\n",
       "  </tbody>\n",
       "</table>\n",
       "</div>"
      ],
      "text/plain": [
       "   area   price\n",
       "0  2600  550000\n",
       "1  3000  565000\n",
       "2  3200  610000\n",
       "3  3600  680000\n",
       "4  4000  725000"
      ]
     },
     "execution_count": 24,
     "metadata": {},
     "output_type": "execute_result"
    }
   ],
   "source": [
    "import pandas as pd\n",
    "from sklearn.linear_model import LinearRegression\n",
    "import pickle\n",
    "df=pd.read_csv(\"homeprices.csv\")\n",
    "df"
   ]
  },
  {
   "cell_type": "code",
   "execution_count": 25,
   "id": "431487c6-4e1e-4206-ac7c-e342a69896da",
   "metadata": {},
   "outputs": [
    {
     "data": {
      "text/plain": [
       "array([[2600],\n",
       "       [3000],\n",
       "       [3200],\n",
       "       [3600],\n",
       "       [4000]])"
      ]
     },
     "execution_count": 25,
     "metadata": {},
     "output_type": "execute_result"
    }
   ],
   "source": [
    "x=df.drop(\"price\",axis=\"columns\").values\n",
    "x\n"
   ]
  },
  {
   "cell_type": "code",
   "execution_count": 26,
   "id": "27320ef3-ccf7-4431-b34e-e2cb68e67871",
   "metadata": {},
   "outputs": [
    {
     "data": {
      "text/plain": [
       "array([550000, 565000, 610000, 680000, 725000])"
      ]
     },
     "execution_count": 26,
     "metadata": {},
     "output_type": "execute_result"
    }
   ],
   "source": [
    "y=df.price.values\n",
    "y"
   ]
  },
  {
   "cell_type": "code",
   "execution_count": 28,
   "id": "dcf8af29-1984-4b66-abd7-b925bcf800ba",
   "metadata": {},
   "outputs": [
    {
     "name": "stdout",
     "output_type": "stream",
     "text": [
      "pickling is done\n"
     ]
    }
   ],
   "source": [
    "obj=LinearRegression()\n",
    "obj.fit(x,y)\n",
    "with open (\"rajesh5.pkl\",\"wb\") as f1:\n",
    " pickle.dump(obj,f1)\n",
    " print(\"pickling is done\")\n"
   ]
  },
  {
   "cell_type": "code",
   "execution_count": 30,
   "id": "78b36b7c-4e70-443d-b418-d0e4539b6c57",
   "metadata": {},
   "outputs": [
    {
     "name": "stdout",
     "output_type": "stream",
     "text": [
      "[859554.79452055]\n",
      "unplickling is done\n"
     ]
    }
   ],
   "source": [
    "with open(\"rajesh5.pkl\",\"rb\") as f2:\n",
    " obj=pickle.load(f2)\n",
    " print(obj.predict([[5000]]))\n",
    " print(\"unplickling is done\")"
   ]
  },
  {
   "cell_type": "code",
   "execution_count": 33,
   "id": "4714ab35-090f-4858-b335-322c33019816",
   "metadata": {},
   "outputs": [
    {
     "data": {
      "text/plain": [
       "x    1.0\n",
       "y    1.0\n",
       "Name: y, dtype: float64"
      ]
     },
     "execution_count": 33,
     "metadata": {},
     "output_type": "execute_result"
    }
   ],
   "source": [
    "import pandas as pd\n",
    "a={ \n",
    "    \"x\":[1,2,3,4,5],\n",
    "     \"y\":[10,20,30,40,50]\n",
    "}\n",
    "df=pd.DataFrame(a)\n",
    "df\n",
    "r_value=df.corr()[\"y\"]\n",
    "r_value"
   ]
  },
  {
   "cell_type": "code",
   "execution_count": 37,
   "id": "aa9a19f4-bcd2-4b01-89d0-49b0f86c48ac",
   "metadata": {},
   "outputs": [
    {
     "data": {
      "text/plain": [
       "x   -0.702555\n",
       "y    1.000000\n",
       "Name: y, dtype: float64"
      ]
     },
     "execution_count": 37,
     "metadata": {},
     "output_type": "execute_result"
    }
   ],
   "source": [
    "import pandas as pd\n",
    "a={\n",
    "    \"x\":[78,98,67,89,100],\n",
    "    \"y\":[100,150,5000,350,1000]\n",
    "}\n",
    "df=pd.DataFrame(a)\n",
    "r_value=df.corr()[\"y\"]\n",
    "r_value"
   ]
  },
  {
   "cell_type": "code",
   "execution_count": null,
   "id": "ef41eda7-f9a7-4698-8898-0555d00dd880",
   "metadata": {},
   "outputs": [],
   "source": []
  },
  {
   "cell_type": "code",
   "execution_count": null,
   "id": "9bd2555c-a3e8-4c11-901d-f8f1a46a9bc4",
   "metadata": {},
   "outputs": [],
   "source": []
  },
  {
   "cell_type": "code",
   "execution_count": null,
   "id": "9ef96905-4834-4773-8505-ed8af19c1476",
   "metadata": {},
   "outputs": [],
   "source": []
  },
  {
   "cell_type": "code",
   "execution_count": null,
   "id": "f52c1be5-faa5-4f37-a14d-951d8acf165a",
   "metadata": {},
   "outputs": [],
   "source": []
  },
  {
   "cell_type": "code",
   "execution_count": null,
   "id": "d8e3f6ec-ebf9-4b55-813a-b81c6f2c103f",
   "metadata": {},
   "outputs": [],
   "source": []
  },
  {
   "cell_type": "code",
   "execution_count": null,
   "id": "27720c05-96aa-4371-a572-0e32969f91fd",
   "metadata": {},
   "outputs": [],
   "source": []
  }
 ],
 "metadata": {
  "kernelspec": {
   "display_name": "Python 3 (ipykernel)",
   "language": "python",
   "name": "python3"
  },
  "language_info": {
   "codemirror_mode": {
    "name": "ipython",
    "version": 3
   },
   "file_extension": ".py",
   "mimetype": "text/x-python",
   "name": "python",
   "nbconvert_exporter": "python",
   "pygments_lexer": "ipython3",
   "version": "3.13.1"
  }
 },
 "nbformat": 4,
 "nbformat_minor": 5
}
